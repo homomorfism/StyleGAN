{
 "cells": [
  {
   "cell_type": "code",
   "execution_count": 1,
   "metadata": {
    "collapsed": true
   },
   "outputs": [],
   "source": [
    "from torchsummary import summary\n",
    "from models.Encoder import Encoder"
   ]
  },
  {
   "cell_type": "code",
   "execution_count": 2,
   "outputs": [
    {
     "name": "stderr",
     "output_type": "stream",
     "text": [
      "Downloading: \"https://download.pytorch.org/models/vgg16-397923af.pth\" to /home/shamil/.cache/torch/hub/checkpoints/vgg16-397923af.pth\n"
     ]
    },
    {
     "data": {
      "text/plain": "  0%|          | 0.00/528M [00:00<?, ?B/s]",
      "application/vnd.jupyter.widget-view+json": {
       "version_major": 2,
       "version_minor": 0,
       "model_id": "9415f4a4955e452f93f249df8532c95a"
      }
     },
     "metadata": {},
     "output_type": "display_data"
    },
    {
     "name": "stdout",
     "output_type": "stream",
     "text": [
      "----------------------------------------------------------------\n",
      "        Layer (type)               Output Shape         Param #\n",
      "================================================================\n",
      "            Conv2d-1          [4, 64, 256, 256]           1,792\n",
      "              ReLU-2          [4, 64, 256, 256]               0\n",
      "            Conv2d-3          [4, 64, 256, 256]          36,928\n",
      "              ReLU-4          [4, 64, 256, 256]               0\n",
      "         MaxPool2d-5          [4, 64, 128, 128]               0\n",
      "         MaxPool2d-6            [4, 64, 16, 16]               0\n",
      "            Conv2d-7         [4, 128, 128, 128]          73,856\n",
      "              ReLU-8         [4, 128, 128, 128]               0\n",
      "            Conv2d-9         [4, 128, 128, 128]         147,584\n",
      "             ReLU-10         [4, 128, 128, 128]               0\n",
      "        MaxPool2d-11           [4, 128, 64, 64]               0\n",
      "        MaxPool2d-12           [4, 128, 16, 16]               0\n",
      "           Conv2d-13           [4, 256, 64, 64]         295,168\n",
      "             ReLU-14           [4, 256, 64, 64]               0\n",
      "           Conv2d-15           [4, 256, 64, 64]         590,080\n",
      "             ReLU-16           [4, 256, 64, 64]               0\n",
      "           Conv2d-17           [4, 256, 64, 64]         590,080\n",
      "             ReLU-18           [4, 256, 64, 64]               0\n",
      "        MaxPool2d-19           [4, 256, 32, 32]               0\n",
      "        MaxPool2d-20           [4, 256, 16, 16]               0\n",
      "           Conv2d-21           [4, 512, 32, 32]       1,180,160\n",
      "             ReLU-22           [4, 512, 32, 32]               0\n",
      "           Conv2d-23           [4, 512, 32, 32]       2,359,808\n",
      "             ReLU-24           [4, 512, 32, 32]               0\n",
      "           Conv2d-25           [4, 512, 32, 32]       2,359,808\n",
      "             ReLU-26           [4, 512, 32, 32]               0\n",
      "        MaxPool2d-27           [4, 512, 16, 16]               0\n",
      "================================================================\n",
      "Total params: 7,635,264\n",
      "Trainable params: 7,635,264\n",
      "Non-trainable params: 0\n",
      "----------------------------------------------------------------\n",
      "Input size (MB): 3.00\n",
      "Forward/backward pass size (MB): 1119.50\n",
      "Params size (MB): 29.13\n",
      "Estimated Total Size (MB): 1151.63\n",
      "----------------------------------------------------------------\n"
     ]
    }
   ],
   "source": [
    "encoder = Encoder()\n",
    "\n",
    "summary(\n",
    "    model=encoder,\n",
    "    input_size=(3, 256, 256), # Some input shape\n",
    "    batch_size=4 # Some batch_size\n",
    ")"
   ],
   "metadata": {
    "collapsed": false,
    "pycharm": {
     "name": "#%%\n"
    }
   }
  }
 ],
 "metadata": {
  "kernelspec": {
   "name": "pycharm-2c329b2a",
   "language": "python",
   "display_name": "PyCharm (tinkoff)"
  },
  "language_info": {
   "codemirror_mode": {
    "name": "ipython",
    "version": 2
   },
   "file_extension": ".py",
   "mimetype": "text/x-python",
   "name": "python",
   "nbconvert_exporter": "python",
   "pygments_lexer": "ipython2",
   "version": "2.7.6"
  }
 },
 "nbformat": 4,
 "nbformat_minor": 0
}