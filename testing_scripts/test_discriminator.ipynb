{
 "cells": [
  {
   "cell_type": "code",
   "execution_count": 1,
   "metadata": {
    "collapsed": true
   },
   "outputs": [],
   "source": [
    "from torchsummary import summary\n",
    "\n",
    "from models.Discriminator import Discriminator"
   ]
  },
  {
   "cell_type": "code",
   "execution_count": 2,
   "outputs": [
    {
     "name": "stdout",
     "output_type": "stream",
     "text": [
      "x shape=torch.Size([2, 3, 256, 256])\n",
      "Size of x=torch.Size([2, 64, 128, 128]) should be [-1, 64, 128, 128]\n",
      "Size of x=torch.Size([2, 128, 64, 64]) should be [-1, 128, 64, 64]\n",
      "Size of x=torch.Size([2, 256, 32, 32]) should be [-1, 256, 32, 32]\n",
      "Size of x=torch.Size([2, 512, 16, 16]) should be [-1, 512, 16, 16]\n",
      "Size of x=torch.Size([2, 512, 16, 16]) should be [-1, 512, 16, 16]\n",
      "Size of x=torch.Size([2, 1, 16, 16]) should be [-1, 1, 16, 16]\n",
      "----------------------------------------------------------------\n",
      "        Layer (type)               Output Shape         Param #\n",
      "================================================================\n",
      "            Conv2d-1         [16, 64, 128, 128]           3,136\n",
      "         LeakyReLU-2         [16, 64, 128, 128]               0\n",
      "            Conv2d-3          [16, 128, 64, 64]         131,200\n",
      "       BatchNorm2d-4          [16, 128, 64, 64]             256\n",
      "         LeakyReLU-5          [16, 128, 64, 64]               0\n",
      "            Conv2d-6          [16, 256, 32, 32]         524,544\n",
      "       BatchNorm2d-7          [16, 256, 32, 32]             512\n",
      "         LeakyReLU-8          [16, 256, 32, 32]               0\n",
      "            Conv2d-9          [16, 512, 16, 16]       2,097,664\n",
      "      BatchNorm2d-10          [16, 512, 16, 16]           1,024\n",
      "        LeakyReLU-11          [16, 512, 16, 16]               0\n",
      "           Conv2d-12          [16, 512, 16, 16]       2,359,808\n",
      "      BatchNorm2d-13          [16, 512, 16, 16]           1,024\n",
      "        LeakyReLU-14          [16, 512, 16, 16]               0\n",
      "           Conv2d-15            [16, 1, 16, 16]           4,609\n",
      "          Sigmoid-16            [16, 1, 16, 16]               0\n",
      "================================================================\n",
      "Total params: 5,123,777\n",
      "Trainable params: 5,123,777\n",
      "Non-trainable params: 0\n",
      "----------------------------------------------------------------\n",
      "Input size (MB): 12.00\n",
      "Forward/backward pass size (MB): 640.06\n",
      "Params size (MB): 19.55\n",
      "Estimated Total Size (MB): 671.61\n",
      "----------------------------------------------------------------\n"
     ]
    },
    {
     "name": "stderr",
     "output_type": "stream",
     "text": [
      "/home/shamil/PycharmProjects/ML_Foundations_course/venv/lib/python3.8/site-packages/torch/cuda/__init__.py:52: UserWarning: CUDA initialization: Found no NVIDIA driver on your system. Please check that you have an NVIDIA GPU and installed a driver from http://www.nvidia.com/Download/index.aspx (Triggered internally at  /pytorch/c10/cuda/CUDAFunctions.cpp:100.)\n",
      "  return torch._C._cuda_getDeviceCount() > 0\n"
     ]
    }
   ],
   "source": [
    "discriminator = Discriminator(relu_negative_slope=0.2, verbose=True)\n",
    "\n",
    "summary(discriminator, input_size=(3, 256, 256), batch_size=16)"
   ],
   "metadata": {
    "collapsed": false,
    "pycharm": {
     "name": "#%%\n"
    }
   }
  }
 ],
 "metadata": {
  "kernelspec": {
   "display_name": "Python 3",
   "language": "python",
   "name": "python3"
  },
  "language_info": {
   "codemirror_mode": {
    "name": "ipython",
    "version": 2
   },
   "file_extension": ".py",
   "mimetype": "text/x-python",
   "name": "python",
   "nbconvert_exporter": "python",
   "pygments_lexer": "ipython2",
   "version": "2.7.6"
  }
 },
 "nbformat": 4,
 "nbformat_minor": 0
}