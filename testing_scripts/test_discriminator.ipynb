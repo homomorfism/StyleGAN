{
 "cells": [
  {
   "cell_type": "code",
   "execution_count": 1,
   "metadata": {
    "collapsed": true
   },
   "outputs": [],
   "source": [
    "from torchsummary import summary\n",
    "\n",
    "from models.Discriminator import Discriminator\n",
    "import torch\n",
    "from torch.nn.functional import mse_loss\n",
    "from torchsummary import summary"
   ]
  },
  {
   "cell_type": "code",
   "execution_count": 10,
   "outputs": [
    {
     "name": "stdout",
     "output_type": "stream",
     "text": [
      "tensor([[0.5295]], grad_fn=<SigmoidBackward>)\n",
      "tensor([[0.1782, 0.1760, 0.1537, 0.2707, 0.2213]], grad_fn=<SoftmaxBackward>)\n"
     ]
    }
   ],
   "source": [
    "discriminator = Discriminator(relu_negative_slope=0.2, style_classes=5)\n",
    "prob, styles = discriminator(torch.randn(size=(1, 3, 256, 256)))\n",
    "labels = torch.randn(size=(1, 5), requires_grad=False)\n",
    "loss = mse_loss(labels, styles)\n",
    "loss.backward()\n",
    "\n",
    "print(prob)\n",
    "\n",
    "print(styles)\n"
   ],
   "metadata": {
    "collapsed": false,
    "pycharm": {
     "name": "#%%\n"
    }
   }
  },
  {
   "cell_type": "code",
   "execution_count": 11,
   "outputs": [
    {
     "name": "stdout",
     "output_type": "stream",
     "text": [
      "----------------------------------------------------------------\n",
      "        Layer (type)               Output Shape         Param #\n",
      "================================================================\n",
      "            Conv2d-1          [4, 64, 128, 128]           3,136\n",
      "         LeakyReLU-2          [4, 64, 128, 128]               0\n",
      "            Conv2d-3           [4, 128, 64, 64]         131,200\n",
      "       BatchNorm2d-4           [4, 128, 64, 64]             256\n",
      "         LeakyReLU-5           [4, 128, 64, 64]               0\n",
      "            Conv2d-6           [4, 256, 32, 32]         524,544\n",
      "       BatchNorm2d-7           [4, 256, 32, 32]             512\n",
      "         LeakyReLU-8           [4, 256, 32, 32]               0\n",
      "            Conv2d-9           [4, 512, 16, 16]       2,097,664\n",
      "      BatchNorm2d-10           [4, 512, 16, 16]           1,024\n",
      "        LeakyReLU-11           [4, 512, 16, 16]               0\n",
      "           Conv2d-12           [4, 512, 16, 16]       2,359,808\n",
      "      BatchNorm2d-13           [4, 512, 16, 16]           1,024\n",
      "        LeakyReLU-14           [4, 512, 16, 16]               0\n",
      "           Linear-15                     [4, 1]             513\n",
      "          Sigmoid-16                     [4, 1]               0\n",
      "           Linear-17                     [4, 5]           2,565\n",
      "          Softmax-18                     [4, 5]               0\n",
      "================================================================\n",
      "Total params: 5,122,246\n",
      "Trainable params: 5,122,246\n",
      "Non-trainable params: 0\n",
      "----------------------------------------------------------------\n",
      "Input size (MB): 3.00\n",
      "Forward/backward pass size (MB): 160.00\n",
      "Params size (MB): 19.54\n",
      "Estimated Total Size (MB): 182.54\n",
      "----------------------------------------------------------------\n"
     ]
    },
    {
     "name": "stderr",
     "output_type": "stream",
     "text": [
      "/home/shamil/PycharmProjects/StyleGAN/venv/lib/python3.9/site-packages/torch/nn/modules/container.py:117: UserWarning: Implicit dimension choice for softmax has been deprecated. Change the call to include dim=X as an argument.\n",
      "  input = module(input)\n"
     ]
    }
   ],
   "source": [
    "summary(discriminator,\n",
    "        input_size=(3, 256, 256),\n",
    "        batch_size=4)\n"
   ],
   "metadata": {
    "collapsed": false,
    "pycharm": {
     "name": "#%%\n"
    }
   }
  }
 ],
 "metadata": {
  "kernelspec": {
   "display_name": "Python 3",
   "language": "python",
   "name": "python3"
  },
  "language_info": {
   "codemirror_mode": {
    "name": "ipython",
    "version": 2
   },
   "file_extension": ".py",
   "mimetype": "text/x-python",
   "name": "python",
   "nbconvert_exporter": "python",
   "pygments_lexer": "ipython2",
   "version": "2.7.6"
  }
 },
 "nbformat": 4,
 "nbformat_minor": 0
}